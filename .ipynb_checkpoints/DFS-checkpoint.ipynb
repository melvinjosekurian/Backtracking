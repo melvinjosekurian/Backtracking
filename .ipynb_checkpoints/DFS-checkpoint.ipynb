{
 "cells": [
  {
   "cell_type": "code",
   "execution_count": 4,
   "metadata": {},
   "outputs": [
    {
     "data": {
      "text/plain": [
       "{'A', 'B', 'C', 'D', 'E', 'F', 'G'}"
      ]
     },
     "execution_count": 4,
     "metadata": {},
     "output_type": "execute_result"
    }
   ],
   "source": [
    "# depth first search recursive implementation in python 2\n",
    "# graph is a dictionary of node:[list of neighbors]\n",
    "# keeps track of visited nodes in a set()\n",
    "\n",
    "def dfs(graph,start,visited):\n",
    "    if start in visited:\n",
    "        return visited\n",
    "    visited.add(start)\n",
    "    if start not in graph:\n",
    "        return visited    \n",
    "    \n",
    "    for neighbor in graph[start]:\n",
    "        dfs(graph,neighbor,visited)\n",
    "        \n",
    "    return visited\n",
    "\n",
    "\n",
    "graph = {\n",
    "    'A':['B','C'],\n",
    "    'B':['C','D','E'],\n",
    "    'E':['F','D'],\n",
    "    'F':['G']\n",
    "}\n",
    "\n",
    "dfs(graph,'A',set())"
   ]
  }
 ],
 "metadata": {
  "kernelspec": {
   "display_name": "Python 2",
   "language": "python",
   "name": "python2"
  },
  "language_info": {
   "codemirror_mode": {
    "name": "ipython",
    "version": 2
   },
   "file_extension": ".py",
   "mimetype": "text/x-python",
   "name": "python",
   "nbconvert_exporter": "python",
   "pygments_lexer": "ipython2",
   "version": "2.7.14"
  }
 },
 "nbformat": 4,
 "nbformat_minor": 2
}
