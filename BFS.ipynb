{
 "cells": [
  {
   "cell_type": "code",
   "execution_count": 3,
   "metadata": {},
   "outputs": [
    {
     "data": {
      "text/plain": [
       "{'A', 'B', 'C', 'D', 'E', 'F', 'G'}"
      ]
     },
     "execution_count": 3,
     "metadata": {},
     "output_type": "execute_result"
    }
   ],
   "source": [
    "# Breadth first search \n",
    "# iterative - keep track of visited nodes in set() and unvisited nodes in collections.queue\n",
    "# graph is a dictionary of node : [list of neighbors]\n",
    "\n",
    "import collections\n",
    "\n",
    "def bfs(graph,start):\n",
    "    if start not in graph:\n",
    "        print start\n",
    "        return    \n",
    "    else:\n",
    "        visited,queue = set(),collections.deque()        \n",
    "        queue.append(start)\n",
    "        while queue:\n",
    "            vertex = queue.popleft()\n",
    "            visited.add(vertex)\n",
    "            if vertex in graph:\n",
    "                for neighbor in graph[vertex]:\n",
    "                    if neighbor not in visited:\n",
    "                        queue.append(neighbor)\n",
    "    return visited\n",
    "                    \n",
    "                    \n",
    "            \n",
    "            \n",
    "\n",
    "graph = {\n",
    "    'A':['B','C'],\n",
    "    'B':['C','D','E'],\n",
    "    'E':['F','D'],\n",
    "    'F':['G']\n",
    "}\n",
    "\n",
    "bfs(graph,'A')"
   ]
  }
 ],
 "metadata": {
  "kernelspec": {
   "display_name": "Python 2",
   "language": "python",
   "name": "python2"
  },
  "language_info": {
   "codemirror_mode": {
    "name": "ipython",
    "version": 2
   },
   "file_extension": ".py",
   "mimetype": "text/x-python",
   "name": "python",
   "nbconvert_exporter": "python",
   "pygments_lexer": "ipython2",
   "version": "2.7.14"
  }
 },
 "nbformat": 4,
 "nbformat_minor": 2
}
