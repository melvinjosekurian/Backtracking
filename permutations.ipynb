{
 "cells": [
  {
   "cell_type": "code",
   "execution_count": 83,
   "metadata": {},
   "outputs": [
    {
     "name": "stdout",
     "output_type": "stream",
     "text": [
      "test\n",
      "tets\n",
      "tset\n",
      "tste\n",
      "ttse\n",
      "ttes\n",
      "etst\n",
      "etts\n",
      "estt\n",
      "estt\n",
      "etst\n",
      "etts\n",
      "sett\n",
      "sett\n",
      "stet\n",
      "stte\n",
      "stte\n",
      "stet\n",
      "test\n",
      "tets\n",
      "tset\n",
      "tste\n",
      "ttse\n",
      "ttes\n"
     ]
    }
   ],
   "source": [
    "# permutations of a string in python 2\n",
    "# print permutations using backtracking\n",
    "\n",
    "def swap(name,A,B):\n",
    "    name[A],name[B] = name[B], name[A]\n",
    "\n",
    "def permute(name,startpos,endpos):\n",
    "    if startpos == endpos:\n",
    "        print ''.join(name)\n",
    "        return\n",
    "    \n",
    "    for i in range(startpos,endpos):\n",
    "        swap(name,startpos,i)\n",
    "        permute(name,startpos+1,endpos)\n",
    "        swap(name,startpos,i)\n",
    "\n",
    "\n",
    "value='test'\n",
    "permute(list(value),0,len(value))\n"
   ]
  }
 ],
 "metadata": {
  "kernelspec": {
   "display_name": "Python 2",
   "language": "python",
   "name": "python2"
  },
  "language_info": {
   "codemirror_mode": {
    "name": "ipython",
    "version": 2
   },
   "file_extension": ".py",
   "mimetype": "text/x-python",
   "name": "python",
   "nbconvert_exporter": "python",
   "pygments_lexer": "ipython2",
   "version": "2.7.14"
  }
 },
 "nbformat": 4,
 "nbformat_minor": 2
}
